{
 "cells": [
  {
   "cell_type": "markdown",
   "metadata": {
    "collapsed": true
   },
   "source": [
    "## Finding the best neighborhood to start a coffee shop in Toronto\n"
   ]
  },
  {
   "cell_type": "markdown",
   "metadata": {
    "ExecuteTime": {
     "end_time": "2020-10-19T19:34:27.502248Z",
     "start_time": "2020-10-19T19:34:27.484330Z"
    }
   },
   "source": [
    "### Business Problem"
   ]
  },
  {
   "cell_type": "markdown",
   "metadata": {},
   "source": [
    "Toronto is one of the most popular cities in Canada with a high population. Toronto is an international center of business, finance, arts, and culture, and is recognized as one of the most multicultural and cosmopolitan cities in the world attracting 1000s of travellers each year. Toronto is well known for restaurants with great food.\n",
    "\n",
    "In this project, I am planning to analyze four square location data to determine the best neighborhood in Toronto to start a new coffee shop to help people planning to start their own coffee business in Toronto. The analysis will provide various information that will help in the decision making process by the target audience.\n"
   ]
  },
  {
   "cell_type": "markdown",
   "metadata": {},
   "source": [
    "### Data Overview"
   ]
  },
  {
   "cell_type": "markdown",
   "metadata": {},
   "source": [
    "The data that will be used for this analysis includes,\n",
    "\n",
    "1. A list of  neighbourhoods in Toronto provided via Wikipedia \"https://en.wikipedia.org/wiki/List_of_postal_codes_of_Canada:_M\"\n",
    "2. Geographical location of each neighbourhood obtained using Geocoder package.\n",
    "3. Venue data for existing coffee shops in Toronto\n",
    "\n",
    "\n"
   ]
  },
  {
   "cell_type": "markdown",
   "metadata": {
    "ExecuteTime": {
     "end_time": "2020-10-19T19:55:33.600623Z",
     "start_time": "2020-10-19T19:55:33.581708Z"
    }
   },
   "source": [
    "### Data Collection"
   ]
  },
  {
   "cell_type": "markdown",
   "metadata": {
    "ExecuteTime": {
     "end_time": "2020-10-19T19:59:21.272392Z",
     "start_time": "2020-10-19T19:59:21.261420Z"
    }
   },
   "source": [
    "Following wikipedia page shows all postal codes available in Canada with neighborhoods in a table."
   ]
  },
  {
   "cell_type": "markdown",
   "metadata": {},
   "source": [
    "<img src=\"postcodes.JPG\">"
   ]
  },
  {
   "cell_type": "markdown",
   "metadata": {},
   "source": [
    " First we performed the scraping of the data to convert it into a suitable format which is a pandas dataframe that includes information about Toronto neighborhoods as following.\n"
   ]
  },
  {
   "cell_type": "markdown",
   "metadata": {},
   "source": [
    "<!-- ![image.png](attachment:image.png) -->\n",
    "<img src=\"neighborhoods.JPG\">"
   ]
  },
  {
   "cell_type": "markdown",
   "metadata": {},
   "source": [
    "The Geographical coordinates of the neighbourhoods with the respective Postal Codes was provided in a CSV file format which we had to attach it to a Pandas data frame."
   ]
  },
  {
   "cell_type": "markdown",
   "metadata": {},
   "source": [
    "<img src=\"locations.JPG\">"
   ]
  },
  {
   "cell_type": "markdown",
   "metadata": {},
   "source": [
    "Later we merged this dataframe with the previous dataframe containing neighborhood information using the common column which is Postal Code."
   ]
  },
  {
   "cell_type": "markdown",
   "metadata": {},
   "source": [
    "<img src=\"merged_df.JPG\">"
   ]
  },
  {
   "cell_type": "markdown",
   "metadata": {},
   "source": [
    "Then we obtained venue data using the foursquare API. First we extracted the following venue list which we will be analyzing further to extract information about coffee shops."
   ]
  },
  {
   "cell_type": "markdown",
   "metadata": {},
   "source": [
    "<img src=\"venues.JPG\">"
   ]
  },
  {
   "cell_type": "markdown",
   "metadata": {},
   "source": [
    "### Methodology"
   ]
  },
  {
   "cell_type": "markdown",
   "metadata": {},
   "source": [
    "Data cleaning was the first step to follow once identified the required data. The wikipedia page contained boroughs that were unassigned. \n",
    "1. Removing rows that had an unassigned borough.\n",
    "2. If a cell has a borough but a Not assigned neighbourhood, then the neighbourhood will be the same as the borough.\n",
    "\n",
    "Following is the python implementation of above.\n"
   ]
  },
  {
   "cell_type": "code",
   "execution_count": 7,
   "metadata": {
    "ExecuteTime": {
     "end_time": "2020-10-21T04:56:10.928822Z",
     "start_time": "2020-10-21T04:56:10.237670Z"
    }
   },
   "outputs": [
    {
     "name": "stdout",
     "output_type": "stream",
     "text": [
      "3\n"
     ]
    },
    {
     "data": {
      "text/html": [
       "<div>\n",
       "<style scoped>\n",
       "    .dataframe tbody tr th:only-of-type {\n",
       "        vertical-align: middle;\n",
       "    }\n",
       "\n",
       "    .dataframe tbody tr th {\n",
       "        vertical-align: top;\n",
       "    }\n",
       "\n",
       "    .dataframe thead th {\n",
       "        text-align: right;\n",
       "    }\n",
       "</style>\n",
       "<table border=\"1\" class=\"dataframe\">\n",
       "  <thead>\n",
       "    <tr style=\"text-align: right;\">\n",
       "      <th></th>\n",
       "      <th>Postal Code</th>\n",
       "      <th>Borough</th>\n",
       "      <th>Neighbourhood</th>\n",
       "    </tr>\n",
       "  </thead>\n",
       "  <tbody>\n",
       "    <tr>\n",
       "      <th>0</th>\n",
       "      <td>M3A</td>\n",
       "      <td>North York</td>\n",
       "      <td>Parkwoods</td>\n",
       "    </tr>\n",
       "    <tr>\n",
       "      <th>1</th>\n",
       "      <td>M4A</td>\n",
       "      <td>North York</td>\n",
       "      <td>Victoria Village</td>\n",
       "    </tr>\n",
       "    <tr>\n",
       "      <th>2</th>\n",
       "      <td>M5A</td>\n",
       "      <td>Downtown Toronto</td>\n",
       "      <td>Regent Park, Harbourfront</td>\n",
       "    </tr>\n",
       "    <tr>\n",
       "      <th>3</th>\n",
       "      <td>M6A</td>\n",
       "      <td>North York</td>\n",
       "      <td>Lawrence Manor, Lawrence Heights</td>\n",
       "    </tr>\n",
       "    <tr>\n",
       "      <th>4</th>\n",
       "      <td>M7A</td>\n",
       "      <td>Downtown Toronto</td>\n",
       "      <td>Queen's Park, Ontario Provincial Government</td>\n",
       "    </tr>\n",
       "  </tbody>\n",
       "</table>\n",
       "</div>"
      ],
      "text/plain": [
       "  Postal Code           Borough                                Neighbourhood\n",
       "0         M3A        North York                                    Parkwoods\n",
       "1         M4A        North York                             Victoria Village\n",
       "2         M5A  Downtown Toronto                    Regent Park, Harbourfront\n",
       "3         M6A        North York             Lawrence Manor, Lawrence Heights\n",
       "4         M7A  Downtown Toronto  Queen's Park, Ontario Provincial Government"
      ]
     },
     "execution_count": 7,
     "metadata": {},
     "output_type": "execute_result"
    }
   ],
   "source": [
    "import pandas as pd\n",
    "\n",
    "# Webpage url        \n",
    "url = 'https://en.wikipedia.org/wiki/List_of_postal_codes_of_Canada:_M'\n",
    "\n",
    "# Extract tables\n",
    "dfs = pd.read_html(url)\n",
    "\n",
    "# print number of tables\n",
    "print(len(dfs))\n",
    "\n",
    "# Get first table which is the table of interest                                                                                                           \n",
    "df = dfs[0]\n",
    "\n",
    "# Extract required columns                                                                                                           \n",
    "df2 = df[['Postal Code','Borough','Neighbourhood']]\n",
    "\n",
    "# get rid of rows with Borough value 'Not assigned'\n",
    "df2 = df2[df2.Borough != 'Not assigned'].reset_index(drop=True)\n",
    "\n",
    "mask = df2['Neighbourhood'] == \"Not assigned\"\n",
    "df2.loc[mask,'Neighbourhood'] = df2.loc[mask, 'Borough']\n",
    "\n",
    "df2.head()\n"
   ]
  },
  {
   "cell_type": "markdown",
   "metadata": {
    "ExecuteTime": {
     "end_time": "2020-10-20T09:01:32.998784Z",
     "start_time": "2020-10-20T09:01:32.981829Z"
    }
   },
   "source": [
    "Next step is to read the csv file containing latitude and longitude details and merge with the above dataframe.\n",
    "Following is the python implementation for that."
   ]
  },
  {
   "cell_type": "code",
   "execution_count": 8,
   "metadata": {
    "ExecuteTime": {
     "end_time": "2020-10-21T04:56:13.329399Z",
     "start_time": "2020-10-21T04:56:13.309453Z"
    }
   },
   "outputs": [
    {
     "data": {
      "text/html": [
       "<div>\n",
       "<style scoped>\n",
       "    .dataframe tbody tr th:only-of-type {\n",
       "        vertical-align: middle;\n",
       "    }\n",
       "\n",
       "    .dataframe tbody tr th {\n",
       "        vertical-align: top;\n",
       "    }\n",
       "\n",
       "    .dataframe thead th {\n",
       "        text-align: right;\n",
       "    }\n",
       "</style>\n",
       "<table border=\"1\" class=\"dataframe\">\n",
       "  <thead>\n",
       "    <tr style=\"text-align: right;\">\n",
       "      <th></th>\n",
       "      <th>Postal Code</th>\n",
       "      <th>Borough</th>\n",
       "      <th>Neighbourhood</th>\n",
       "      <th>Latitude</th>\n",
       "      <th>Longitude</th>\n",
       "    </tr>\n",
       "  </thead>\n",
       "  <tbody>\n",
       "    <tr>\n",
       "      <th>0</th>\n",
       "      <td>M3A</td>\n",
       "      <td>North York</td>\n",
       "      <td>Parkwoods</td>\n",
       "      <td>43.753259</td>\n",
       "      <td>-79.329656</td>\n",
       "    </tr>\n",
       "    <tr>\n",
       "      <th>1</th>\n",
       "      <td>M4A</td>\n",
       "      <td>North York</td>\n",
       "      <td>Victoria Village</td>\n",
       "      <td>43.725882</td>\n",
       "      <td>-79.315572</td>\n",
       "    </tr>\n",
       "    <tr>\n",
       "      <th>2</th>\n",
       "      <td>M5A</td>\n",
       "      <td>Downtown Toronto</td>\n",
       "      <td>Regent Park, Harbourfront</td>\n",
       "      <td>43.654260</td>\n",
       "      <td>-79.360636</td>\n",
       "    </tr>\n",
       "    <tr>\n",
       "      <th>3</th>\n",
       "      <td>M6A</td>\n",
       "      <td>North York</td>\n",
       "      <td>Lawrence Manor, Lawrence Heights</td>\n",
       "      <td>43.718518</td>\n",
       "      <td>-79.464763</td>\n",
       "    </tr>\n",
       "    <tr>\n",
       "      <th>4</th>\n",
       "      <td>M7A</td>\n",
       "      <td>Downtown Toronto</td>\n",
       "      <td>Queen's Park, Ontario Provincial Government</td>\n",
       "      <td>43.662301</td>\n",
       "      <td>-79.389494</td>\n",
       "    </tr>\n",
       "  </tbody>\n",
       "</table>\n",
       "</div>"
      ],
      "text/plain": [
       "  Postal Code           Borough                                Neighbourhood  \\\n",
       "0         M3A        North York                                    Parkwoods   \n",
       "1         M4A        North York                             Victoria Village   \n",
       "2         M5A  Downtown Toronto                    Regent Park, Harbourfront   \n",
       "3         M6A        North York             Lawrence Manor, Lawrence Heights   \n",
       "4         M7A  Downtown Toronto  Queen's Park, Ontario Provincial Government   \n",
       "\n",
       "    Latitude  Longitude  \n",
       "0  43.753259 -79.329656  \n",
       "1  43.725882 -79.315572  \n",
       "2  43.654260 -79.360636  \n",
       "3  43.718518 -79.464763  \n",
       "4  43.662301 -79.389494  "
      ]
     },
     "execution_count": 8,
     "metadata": {},
     "output_type": "execute_result"
    }
   ],
   "source": [
    "df_lng_lat = pd.read_csv('Geospatial_Coordinates.csv')\n",
    "\n",
    "df_merged = df2.merge(df_lng_lat, on=\"Postal Code\", how = 'left')\n",
    "df_merged.head()"
   ]
  },
  {
   "cell_type": "markdown",
   "metadata": {},
   "source": [
    "Since my project focus on Toronto I had to extract only Toronto neighborhoods as follows."
   ]
  },
  {
   "cell_type": "code",
   "execution_count": 9,
   "metadata": {
    "ExecuteTime": {
     "end_time": "2020-10-21T04:56:16.228644Z",
     "start_time": "2020-10-21T04:56:16.205707Z"
    }
   },
   "outputs": [
    {
     "data": {
      "text/html": [
       "<div>\n",
       "<style scoped>\n",
       "    .dataframe tbody tr th:only-of-type {\n",
       "        vertical-align: middle;\n",
       "    }\n",
       "\n",
       "    .dataframe tbody tr th {\n",
       "        vertical-align: top;\n",
       "    }\n",
       "\n",
       "    .dataframe thead th {\n",
       "        text-align: right;\n",
       "    }\n",
       "</style>\n",
       "<table border=\"1\" class=\"dataframe\">\n",
       "  <thead>\n",
       "    <tr style=\"text-align: right;\">\n",
       "      <th></th>\n",
       "      <th>Postal Code</th>\n",
       "      <th>Borough</th>\n",
       "      <th>Neighbourhood</th>\n",
       "      <th>Latitude</th>\n",
       "      <th>Longitude</th>\n",
       "    </tr>\n",
       "  </thead>\n",
       "  <tbody>\n",
       "    <tr>\n",
       "      <th>2</th>\n",
       "      <td>M5A</td>\n",
       "      <td>Downtown Toronto</td>\n",
       "      <td>Regent Park, Harbourfront</td>\n",
       "      <td>43.654260</td>\n",
       "      <td>-79.360636</td>\n",
       "    </tr>\n",
       "    <tr>\n",
       "      <th>4</th>\n",
       "      <td>M7A</td>\n",
       "      <td>Downtown Toronto</td>\n",
       "      <td>Queen's Park, Ontario Provincial Government</td>\n",
       "      <td>43.662301</td>\n",
       "      <td>-79.389494</td>\n",
       "    </tr>\n",
       "    <tr>\n",
       "      <th>9</th>\n",
       "      <td>M5B</td>\n",
       "      <td>Downtown Toronto</td>\n",
       "      <td>Garden District, Ryerson</td>\n",
       "      <td>43.657162</td>\n",
       "      <td>-79.378937</td>\n",
       "    </tr>\n",
       "    <tr>\n",
       "      <th>15</th>\n",
       "      <td>M5C</td>\n",
       "      <td>Downtown Toronto</td>\n",
       "      <td>St. James Town</td>\n",
       "      <td>43.651494</td>\n",
       "      <td>-79.375418</td>\n",
       "    </tr>\n",
       "    <tr>\n",
       "      <th>19</th>\n",
       "      <td>M4E</td>\n",
       "      <td>East Toronto</td>\n",
       "      <td>The Beaches</td>\n",
       "      <td>43.676357</td>\n",
       "      <td>-79.293031</td>\n",
       "    </tr>\n",
       "  </tbody>\n",
       "</table>\n",
       "</div>"
      ],
      "text/plain": [
       "   Postal Code           Borough                                Neighbourhood  \\\n",
       "2          M5A  Downtown Toronto                    Regent Park, Harbourfront   \n",
       "4          M7A  Downtown Toronto  Queen's Park, Ontario Provincial Government   \n",
       "9          M5B  Downtown Toronto                     Garden District, Ryerson   \n",
       "15         M5C  Downtown Toronto                               St. James Town   \n",
       "19         M4E      East Toronto                                  The Beaches   \n",
       "\n",
       "     Latitude  Longitude  \n",
       "2   43.654260 -79.360636  \n",
       "4   43.662301 -79.389494  \n",
       "9   43.657162 -79.378937  \n",
       "15  43.651494 -79.375418  \n",
       "19  43.676357 -79.293031  "
      ]
     },
     "execution_count": 9,
     "metadata": {},
     "output_type": "execute_result"
    }
   ],
   "source": [
    "df_merged = df_merged[df_merged['Borough'].str.contains(\"Toronto\")]\n",
    "df_merged.head()"
   ]
  },
  {
   "cell_type": "markdown",
   "metadata": {},
   "source": [
    "#### Creating a map with Toronto neighborhoods superimposed on that"
   ]
  },
  {
   "cell_type": "code",
   "execution_count": 10,
   "metadata": {
    "ExecuteTime": {
     "end_time": "2020-10-21T04:56:18.879556Z",
     "start_time": "2020-10-21T04:56:18.870580Z"
    }
   },
   "outputs": [
    {
     "name": "stdout",
     "output_type": "stream",
     "text": [
      "Libraries imported.\n"
     ]
    }
   ],
   "source": [
    "import numpy as np # library to handle data in a vectorized manner\n",
    "\n",
    "import pandas as pd # library for data analsysis\n",
    "pd.set_option('display.max_columns', None)\n",
    "pd.set_option('display.max_rows', None)\n",
    "\n",
    "import json # library to handle JSON files\n",
    "\n",
    "# !conda install -c conda-forge geopy --yes # uncomment this line if you haven't completed the Foursquare API lab\n",
    "# from geopy.geocoders import Nominatim # convert an address into latitude and longitude values\n",
    "\n",
    "import requests # library to handle requests\n",
    "from pandas.io.json import json_normalize # tranform JSON file into a pandas dataframe\n",
    "\n",
    "# Matplotlib and associated plotting modules\n",
    "import matplotlib.cm as cm\n",
    "import matplotlib.colors as colors\n",
    "\n",
    "# import k-means from clustering stage\n",
    "from sklearn.cluster import KMeans\n",
    "\n",
    "#!conda install -c conda-forge folium=0.5.0 --yes # uncomment this line if you haven't completed the Foursquare API lab\n",
    "import folium # map rendering library\n",
    "\n",
    "print('Libraries imported.')"
   ]
  },
  {
   "cell_type": "code",
   "execution_count": 25,
   "metadata": {
    "ExecuteTime": {
     "end_time": "2020-10-21T04:58:29.462967Z",
     "start_time": "2020-10-21T04:58:29.359244Z"
    }
   },
   "outputs": [
    {
     "data": {
      "text/html": [
       "<div style=\"width:100%;\"><div style=\"position:relative;width:100%;height:0;padding-bottom:60%;\"><span style=\"color:#565656\">Make this Notebook Trusted to load map: File -> Trust Notebook</span><iframe src=\"about:blank\" style=\"position:absolute;width:100%;height:100%;left:0;top:0;border:none !important;\" data-html=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 onload=\"this.contentDocument.open();this.contentDocument.write(atob(this.getAttribute('data-html')));this.contentDocument.close();\" allowfullscreen webkitallowfullscreen mozallowfullscreen></iframe></div></div>"
      ],
      "text/plain": [
       "<folium.folium.Map at 0x1c0346fccc8>"
      ]
     },
     "execution_count": 25,
     "metadata": {},
     "output_type": "execute_result"
    }
   ],
   "source": [
    "latitude = 43.651070\n",
    "longitude = -79.347015\n",
    "\n",
    "# create map of New York using latitude and longitude values\n",
    "map_Toronto = folium.Map(location=[latitude, longitude], zoom_start=11)\n",
    "\n",
    "# add markers to map\n",
    "for lat, lng, borough, neighborhood in zip(df_merged['Latitude'], df_merged['Longitude'], df_merged['Borough'], df_merged['Neighbourhood']):\n",
    "    label = '{}, {}'.format(neighborhood, borough)\n",
    "    label = folium.Popup(label, parse_html=True)\n",
    "    folium.CircleMarker(\n",
    "        [lat, lng],\n",
    "        radius=5,\n",
    "        popup=label,\n",
    "        color='blue',\n",
    "        fill=True,\n",
    "        fill_color='#3186cc',\n",
    "        fill_opacity=0.7,\n",
    "        parse_html=False).add_to(map_Toronto)  \n",
    "    \n",
    "map_Toronto"
   ]
  },
  {
   "cell_type": "markdown",
   "metadata": {},
   "source": [
    "#### Define four square credentials"
   ]
  },
  {
   "cell_type": "code",
   "execution_count": 26,
   "metadata": {
    "ExecuteTime": {
     "end_time": "2020-10-21T04:58:34.258143Z",
     "start_time": "2020-10-21T04:58:34.246177Z"
    }
   },
   "outputs": [
    {
     "name": "stdout",
     "output_type": "stream",
     "text": [
      "Your credentails:\n",
      "CLIENT_ID: GURYN0HXLCV2RLRBQZSKURSEVN5ZVZTB14HYM5DKEON3KGSW\n",
      "CLIENT_SECRET:W54MVLZU1PPZFODSDSKH3LDDMIZEIRZMCNXXDBNQ5OQPEFB3\n"
     ]
    }
   ],
   "source": [
    "CLIENT_ID = 'GURYN0HXLCV2RLRBQZSKURSEVN5ZVZTB14HYM5DKEON3KGSW' # your Foursquare ID\n",
    "CLIENT_SECRET = 'W54MVLZU1PPZFODSDSKH3LDDMIZEIRZMCNXXDBNQ5OQPEFB3' # your Foursquare Secret\n",
    "VERSION = '20180605' # Foursquare API version\n",
    "LIMIT = 100 # A default Foursquare API limit value\n",
    "\n",
    "print('Your credentails:')\n",
    "print('CLIENT_ID: ' + CLIENT_ID)\n",
    "print('CLIENT_SECRET:' + CLIENT_SECRET)"
   ]
  },
  {
   "cell_type": "code",
   "execution_count": 12,
   "metadata": {
    "ExecuteTime": {
     "end_time": "2020-10-21T04:56:41.695271Z",
     "start_time": "2020-10-21T04:56:41.677319Z"
    }
   },
   "outputs": [],
   "source": [
    "#### Get requests near Toronto city"
   ]
  },
  {
   "cell_type": "markdown",
   "metadata": {
    "ExecuteTime": {
     "end_time": "2020-10-20T09:09:55.314059Z",
     "start_time": "2020-10-20T09:09:54.719677Z"
    }
   },
   "source": [
    "### Extracting all coffee shops near Toronto into a dataframe"
   ]
  },
  {
   "cell_type": "code",
   "execution_count": 27,
   "metadata": {
    "ExecuteTime": {
     "end_time": "2020-10-21T04:58:37.889120Z",
     "start_time": "2020-10-21T04:58:37.869204Z"
    }
   },
   "outputs": [],
   "source": [
    "def getNearbyVenues(names, latitudes, longitudes, radius=500):\n",
    "    \n",
    "    venues_list=[]\n",
    "    for name, lat, lng in zip(names, latitudes, longitudes):\n",
    "        print(name)\n",
    "            \n",
    "        # create the API request URL\n",
    "        url = 'https://api.foursquare.com/v2/venues/explore?&client_id={}&client_secret={}&v={}&ll={},{}&query={}&radius={}&limit={}'.format(\n",
    "            CLIENT_ID, \n",
    "            CLIENT_SECRET, \n",
    "            VERSION, \n",
    "            lat, \n",
    "            lng,\n",
    "            'coffee',\n",
    "            radius, \n",
    "            LIMIT)\n",
    "            \n",
    "        # make the GET request\n",
    "        results = requests.get(url).json()[\"response\"]['groups'][0]['items']\n",
    "        \n",
    "        # return only relevant information for each nearby venue\n",
    "        venues_list.append([(\n",
    "            name, \n",
    "            lat, \n",
    "            lng, \n",
    "            v['venue']['name'], \n",
    "            v['venue']['location']['lat'], \n",
    "            v['venue']['location']['lng'],  \n",
    "            v['venue']['categories'][0]['name']) for v in results])\n",
    "\n",
    "    nearby_venues = pd.DataFrame([item for venue_list in venues_list for item in venue_list])\n",
    "    nearby_venues.columns = ['Neighborhood', \n",
    "                  'Neighborhood Latitude', \n",
    "                  'Neighborhood Longitude', \n",
    "                  'Venue', \n",
    "                  'Venue Latitude', \n",
    "                  'Venue Longitude', \n",
    "                  'Venue Category']\n",
    "    \n",
    "    return(nearby_venues)"
   ]
  },
  {
   "cell_type": "code",
   "execution_count": 15,
   "metadata": {
    "ExecuteTime": {
     "end_time": "2020-10-21T04:57:24.581805Z",
     "start_time": "2020-10-21T04:57:00.046423Z"
    }
   },
   "outputs": [
    {
     "name": "stdout",
     "output_type": "stream",
     "text": [
      "Regent Park, Harbourfront\n",
      "Queen's Park, Ontario Provincial Government\n",
      "Garden District, Ryerson\n",
      "St. James Town\n",
      "The Beaches\n",
      "Berczy Park\n",
      "Central Bay Street\n",
      "Christie\n",
      "Richmond, Adelaide, King\n",
      "Dufferin, Dovercourt Village\n",
      "Harbourfront East, Union Station, Toronto Islands\n",
      "Little Portugal, Trinity\n",
      "The Danforth West, Riverdale\n",
      "Toronto Dominion Centre, Design Exchange\n",
      "Brockton, Parkdale Village, Exhibition Place\n",
      "India Bazaar, The Beaches West\n",
      "Commerce Court, Victoria Hotel\n",
      "Studio District\n",
      "Lawrence Park\n",
      "Roselawn\n",
      "Davisville North\n",
      "Forest Hill North & West, Forest Hill Road Park\n",
      "High Park, The Junction South\n",
      "North Toronto West, Lawrence Park\n",
      "The Annex, North Midtown, Yorkville\n",
      "Parkdale, Roncesvalles\n",
      "Davisville\n",
      "University of Toronto, Harbord\n",
      "Runnymede, Swansea\n",
      "Moore Park, Summerhill East\n",
      "Kensington Market, Chinatown, Grange Park\n",
      "Summerhill West, Rathnelly, South Hill, Forest Hill SE, Deer Park\n",
      "CN Tower, King and Spadina, Railway Lands, Harbourfront West, Bathurst Quay, South Niagara, Island airport\n",
      "Rosedale\n",
      "Stn A PO Boxes\n",
      "St. James Town, Cabbagetown\n",
      "First Canadian Place, Underground city\n",
      "Church and Wellesley\n",
      "Business reply mail Processing Centre, South Central Letter Processing Plant Toronto\n"
     ]
    }
   ],
   "source": [
    "Toronto_venues = getNearbyVenues(names=df_merged['Neighbourhood'],\n",
    "                                   latitudes=df_merged['Latitude'],\n",
    "                                   longitudes=df_merged['Longitude']\n",
    "                                  )"
   ]
  },
  {
   "cell_type": "code",
   "execution_count": 28,
   "metadata": {
    "ExecuteTime": {
     "end_time": "2020-10-21T04:58:41.916353Z",
     "start_time": "2020-10-21T04:58:41.887429Z"
    }
   },
   "outputs": [
    {
     "name": "stdout",
     "output_type": "stream",
     "text": [
      "(829, 7)\n"
     ]
    },
    {
     "data": {
      "text/html": [
       "<div>\n",
       "<style scoped>\n",
       "    .dataframe tbody tr th:only-of-type {\n",
       "        vertical-align: middle;\n",
       "    }\n",
       "\n",
       "    .dataframe tbody tr th {\n",
       "        vertical-align: top;\n",
       "    }\n",
       "\n",
       "    .dataframe thead th {\n",
       "        text-align: right;\n",
       "    }\n",
       "</style>\n",
       "<table border=\"1\" class=\"dataframe\">\n",
       "  <thead>\n",
       "    <tr style=\"text-align: right;\">\n",
       "      <th></th>\n",
       "      <th>Neighborhood</th>\n",
       "      <th>Neighborhood Latitude</th>\n",
       "      <th>Neighborhood Longitude</th>\n",
       "      <th>Venue</th>\n",
       "      <th>Venue Latitude</th>\n",
       "      <th>Venue Longitude</th>\n",
       "      <th>Venue Category</th>\n",
       "    </tr>\n",
       "  </thead>\n",
       "  <tbody>\n",
       "    <tr>\n",
       "      <th>0</th>\n",
       "      <td>Regent Park, Harbourfront</td>\n",
       "      <td>43.65426</td>\n",
       "      <td>-79.360636</td>\n",
       "      <td>Tandem Coffee</td>\n",
       "      <td>43.653559</td>\n",
       "      <td>-79.361809</td>\n",
       "      <td>Coffee Shop</td>\n",
       "    </tr>\n",
       "    <tr>\n",
       "      <th>1</th>\n",
       "      <td>Regent Park, Harbourfront</td>\n",
       "      <td>43.65426</td>\n",
       "      <td>-79.360636</td>\n",
       "      <td>Impact Kitchen</td>\n",
       "      <td>43.656369</td>\n",
       "      <td>-79.356980</td>\n",
       "      <td>Restaurant</td>\n",
       "    </tr>\n",
       "    <tr>\n",
       "      <th>2</th>\n",
       "      <td>Regent Park, Harbourfront</td>\n",
       "      <td>43.65426</td>\n",
       "      <td>-79.360636</td>\n",
       "      <td>Morning Glory Cafe</td>\n",
       "      <td>43.653947</td>\n",
       "      <td>-79.361149</td>\n",
       "      <td>Breakfast Spot</td>\n",
       "    </tr>\n",
       "    <tr>\n",
       "      <th>3</th>\n",
       "      <td>Regent Park, Harbourfront</td>\n",
       "      <td>43.65426</td>\n",
       "      <td>-79.360636</td>\n",
       "      <td>Arvo</td>\n",
       "      <td>43.649963</td>\n",
       "      <td>-79.361442</td>\n",
       "      <td>Coffee Shop</td>\n",
       "    </tr>\n",
       "    <tr>\n",
       "      <th>4</th>\n",
       "      <td>Regent Park, Harbourfront</td>\n",
       "      <td>43.65426</td>\n",
       "      <td>-79.360636</td>\n",
       "      <td>Rooster Coffee</td>\n",
       "      <td>43.651900</td>\n",
       "      <td>-79.365609</td>\n",
       "      <td>Coffee Shop</td>\n",
       "    </tr>\n",
       "  </tbody>\n",
       "</table>\n",
       "</div>"
      ],
      "text/plain": [
       "                Neighborhood  Neighborhood Latitude  Neighborhood Longitude  \\\n",
       "0  Regent Park, Harbourfront               43.65426              -79.360636   \n",
       "1  Regent Park, Harbourfront               43.65426              -79.360636   \n",
       "2  Regent Park, Harbourfront               43.65426              -79.360636   \n",
       "3  Regent Park, Harbourfront               43.65426              -79.360636   \n",
       "4  Regent Park, Harbourfront               43.65426              -79.360636   \n",
       "\n",
       "                Venue  Venue Latitude  Venue Longitude  Venue Category  \n",
       "0       Tandem Coffee       43.653559       -79.361809     Coffee Shop  \n",
       "1      Impact Kitchen       43.656369       -79.356980      Restaurant  \n",
       "2  Morning Glory Cafe       43.653947       -79.361149  Breakfast Spot  \n",
       "3                Arvo       43.649963       -79.361442     Coffee Shop  \n",
       "4      Rooster Coffee       43.651900       -79.365609     Coffee Shop  "
      ]
     },
     "execution_count": 28,
     "metadata": {},
     "output_type": "execute_result"
    }
   ],
   "source": [
    "print(Toronto_venues.shape)\n",
    "Toronto_venues.head()"
   ]
  },
  {
   "cell_type": "code",
   "execution_count": 29,
   "metadata": {
    "ExecuteTime": {
     "end_time": "2020-10-21T04:58:44.471045Z",
     "start_time": "2020-10-21T04:58:44.440131Z"
    }
   },
   "outputs": [
    {
     "data": {
      "text/html": [
       "<div>\n",
       "<style scoped>\n",
       "    .dataframe tbody tr th:only-of-type {\n",
       "        vertical-align: middle;\n",
       "    }\n",
       "\n",
       "    .dataframe tbody tr th {\n",
       "        vertical-align: top;\n",
       "    }\n",
       "\n",
       "    .dataframe thead th {\n",
       "        text-align: right;\n",
       "    }\n",
       "</style>\n",
       "<table border=\"1\" class=\"dataframe\">\n",
       "  <thead>\n",
       "    <tr style=\"text-align: right;\">\n",
       "      <th></th>\n",
       "      <th>Neighborhood Latitude</th>\n",
       "      <th>Neighborhood Longitude</th>\n",
       "      <th>Venue</th>\n",
       "      <th>Venue Latitude</th>\n",
       "      <th>Venue Longitude</th>\n",
       "      <th>Venue Category</th>\n",
       "    </tr>\n",
       "    <tr>\n",
       "      <th>Neighborhood</th>\n",
       "      <th></th>\n",
       "      <th></th>\n",
       "      <th></th>\n",
       "      <th></th>\n",
       "      <th></th>\n",
       "      <th></th>\n",
       "    </tr>\n",
       "  </thead>\n",
       "  <tbody>\n",
       "    <tr>\n",
       "      <th>Berczy Park</th>\n",
       "      <td>22</td>\n",
       "      <td>22</td>\n",
       "      <td>22</td>\n",
       "      <td>22</td>\n",
       "      <td>22</td>\n",
       "      <td>22</td>\n",
       "    </tr>\n",
       "    <tr>\n",
       "      <th>Brockton, Parkdale Village, Exhibition Place</th>\n",
       "      <td>6</td>\n",
       "      <td>6</td>\n",
       "      <td>6</td>\n",
       "      <td>6</td>\n",
       "      <td>6</td>\n",
       "      <td>6</td>\n",
       "    </tr>\n",
       "    <tr>\n",
       "      <th>Business reply mail Processing Centre, South Central Letter Processing Plant Toronto</th>\n",
       "      <td>1</td>\n",
       "      <td>1</td>\n",
       "      <td>1</td>\n",
       "      <td>1</td>\n",
       "      <td>1</td>\n",
       "      <td>1</td>\n",
       "    </tr>\n",
       "    <tr>\n",
       "      <th>CN Tower, King and Spadina, Railway Lands, Harbourfront West, Bathurst Quay, South Niagara, Island airport</th>\n",
       "      <td>2</td>\n",
       "      <td>2</td>\n",
       "      <td>2</td>\n",
       "      <td>2</td>\n",
       "      <td>2</td>\n",
       "      <td>2</td>\n",
       "    </tr>\n",
       "    <tr>\n",
       "      <th>Central Bay Street</th>\n",
       "      <td>43</td>\n",
       "      <td>43</td>\n",
       "      <td>43</td>\n",
       "      <td>43</td>\n",
       "      <td>43</td>\n",
       "      <td>43</td>\n",
       "    </tr>\n",
       "  </tbody>\n",
       "</table>\n",
       "</div>"
      ],
      "text/plain": [
       "                                                    Neighborhood Latitude  \\\n",
       "Neighborhood                                                                \n",
       "Berczy Park                                                            22   \n",
       "Brockton, Parkdale Village, Exhibition Place                            6   \n",
       "Business reply mail Processing Centre, South Ce...                      1   \n",
       "CN Tower, King and Spadina, Railway Lands, Harb...                      2   \n",
       "Central Bay Street                                                     43   \n",
       "\n",
       "                                                    Neighborhood Longitude  \\\n",
       "Neighborhood                                                                 \n",
       "Berczy Park                                                             22   \n",
       "Brockton, Parkdale Village, Exhibition Place                             6   \n",
       "Business reply mail Processing Centre, South Ce...                       1   \n",
       "CN Tower, King and Spadina, Railway Lands, Harb...                       2   \n",
       "Central Bay Street                                                      43   \n",
       "\n",
       "                                                    Venue  Venue Latitude  \\\n",
       "Neighborhood                                                                \n",
       "Berczy Park                                            22              22   \n",
       "Brockton, Parkdale Village, Exhibition Place            6               6   \n",
       "Business reply mail Processing Centre, South Ce...      1               1   \n",
       "CN Tower, King and Spadina, Railway Lands, Harb...      2               2   \n",
       "Central Bay Street                                     43              43   \n",
       "\n",
       "                                                    Venue Longitude  \\\n",
       "Neighborhood                                                          \n",
       "Berczy Park                                                      22   \n",
       "Brockton, Parkdale Village, Exhibition Place                      6   \n",
       "Business reply mail Processing Centre, South Ce...                1   \n",
       "CN Tower, King and Spadina, Railway Lands, Harb...                2   \n",
       "Central Bay Street                                               43   \n",
       "\n",
       "                                                    Venue Category  \n",
       "Neighborhood                                                        \n",
       "Berczy Park                                                     22  \n",
       "Brockton, Parkdale Village, Exhibition Place                     6  \n",
       "Business reply mail Processing Centre, South Ce...               1  \n",
       "CN Tower, King and Spadina, Railway Lands, Harb...               2  \n",
       "Central Bay Street                                              43  "
      ]
     },
     "execution_count": 29,
     "metadata": {},
     "output_type": "execute_result"
    }
   ],
   "source": [
    "# the number of venues returned for each neighborhood\n",
    "num_coffe_shops = Toronto_venues.groupby('Neighborhood').count()\n",
    "num_coffe_shops.head()"
   ]
  },
  {
   "cell_type": "code",
   "execution_count": 30,
   "metadata": {
    "ExecuteTime": {
     "end_time": "2020-10-21T04:58:46.757927Z",
     "start_time": "2020-10-21T04:58:46.719032Z"
    }
   },
   "outputs": [
    {
     "data": {
      "text/html": [
       "<div>\n",
       "<style scoped>\n",
       "    .dataframe tbody tr th:only-of-type {\n",
       "        vertical-align: middle;\n",
       "    }\n",
       "\n",
       "    .dataframe tbody tr th {\n",
       "        vertical-align: top;\n",
       "    }\n",
       "\n",
       "    .dataframe thead th {\n",
       "        text-align: right;\n",
       "    }\n",
       "</style>\n",
       "<table border=\"1\" class=\"dataframe\">\n",
       "  <thead>\n",
       "    <tr style=\"text-align: right;\">\n",
       "      <th></th>\n",
       "      <th>Postal Code</th>\n",
       "      <th>Borough</th>\n",
       "      <th>Neighbourhood</th>\n",
       "      <th>Latitude</th>\n",
       "      <th>Longitude</th>\n",
       "      <th>Neighborhood Latitude</th>\n",
       "      <th>Neighborhood Longitude</th>\n",
       "      <th>Venue</th>\n",
       "      <th>Venue Latitude</th>\n",
       "      <th>Venue Longitude</th>\n",
       "      <th>Venue Category</th>\n",
       "    </tr>\n",
       "  </thead>\n",
       "  <tbody>\n",
       "    <tr>\n",
       "      <th>0</th>\n",
       "      <td>M5A</td>\n",
       "      <td>Downtown Toronto</td>\n",
       "      <td>Regent Park, Harbourfront</td>\n",
       "      <td>43.654260</td>\n",
       "      <td>-79.360636</td>\n",
       "      <td>17.0</td>\n",
       "      <td>17.0</td>\n",
       "      <td>17.0</td>\n",
       "      <td>17.0</td>\n",
       "      <td>17.0</td>\n",
       "      <td>17.0</td>\n",
       "    </tr>\n",
       "    <tr>\n",
       "      <th>1</th>\n",
       "      <td>M7A</td>\n",
       "      <td>Downtown Toronto</td>\n",
       "      <td>Queen's Park, Ontario Provincial Government</td>\n",
       "      <td>43.662301</td>\n",
       "      <td>-79.389494</td>\n",
       "      <td>26.0</td>\n",
       "      <td>26.0</td>\n",
       "      <td>26.0</td>\n",
       "      <td>26.0</td>\n",
       "      <td>26.0</td>\n",
       "      <td>26.0</td>\n",
       "    </tr>\n",
       "    <tr>\n",
       "      <th>2</th>\n",
       "      <td>M5B</td>\n",
       "      <td>Downtown Toronto</td>\n",
       "      <td>Garden District, Ryerson</td>\n",
       "      <td>43.657162</td>\n",
       "      <td>-79.378937</td>\n",
       "      <td>55.0</td>\n",
       "      <td>55.0</td>\n",
       "      <td>55.0</td>\n",
       "      <td>55.0</td>\n",
       "      <td>55.0</td>\n",
       "      <td>55.0</td>\n",
       "    </tr>\n",
       "    <tr>\n",
       "      <th>3</th>\n",
       "      <td>M5C</td>\n",
       "      <td>Downtown Toronto</td>\n",
       "      <td>St. James Town</td>\n",
       "      <td>43.651494</td>\n",
       "      <td>-79.375418</td>\n",
       "      <td>52.0</td>\n",
       "      <td>52.0</td>\n",
       "      <td>52.0</td>\n",
       "      <td>52.0</td>\n",
       "      <td>52.0</td>\n",
       "      <td>52.0</td>\n",
       "    </tr>\n",
       "    <tr>\n",
       "      <th>4</th>\n",
       "      <td>M4E</td>\n",
       "      <td>East Toronto</td>\n",
       "      <td>The Beaches</td>\n",
       "      <td>43.676357</td>\n",
       "      <td>-79.293031</td>\n",
       "      <td>1.0</td>\n",
       "      <td>1.0</td>\n",
       "      <td>1.0</td>\n",
       "      <td>1.0</td>\n",
       "      <td>1.0</td>\n",
       "      <td>1.0</td>\n",
       "    </tr>\n",
       "  </tbody>\n",
       "</table>\n",
       "</div>"
      ],
      "text/plain": [
       "  Postal Code           Borough                                Neighbourhood  \\\n",
       "0         M5A  Downtown Toronto                    Regent Park, Harbourfront   \n",
       "1         M7A  Downtown Toronto  Queen's Park, Ontario Provincial Government   \n",
       "2         M5B  Downtown Toronto                     Garden District, Ryerson   \n",
       "3         M5C  Downtown Toronto                               St. James Town   \n",
       "4         M4E      East Toronto                                  The Beaches   \n",
       "\n",
       "    Latitude  Longitude  Neighborhood Latitude  Neighborhood Longitude  Venue  \\\n",
       "0  43.654260 -79.360636                   17.0                    17.0   17.0   \n",
       "1  43.662301 -79.389494                   26.0                    26.0   26.0   \n",
       "2  43.657162 -79.378937                   55.0                    55.0   55.0   \n",
       "3  43.651494 -79.375418                   52.0                    52.0   52.0   \n",
       "4  43.676357 -79.293031                    1.0                     1.0    1.0   \n",
       "\n",
       "   Venue Latitude  Venue Longitude  Venue Category  \n",
       "0            17.0             17.0            17.0  \n",
       "1            26.0             26.0            26.0  \n",
       "2            55.0             55.0            55.0  \n",
       "3            52.0             52.0            52.0  \n",
       "4             1.0              1.0             1.0  "
      ]
     },
     "execution_count": 30,
     "metadata": {},
     "output_type": "execute_result"
    }
   ],
   "source": [
    "#merge number of coffee shops with padaframe\n",
    "\n",
    "# num_coffe_shops = num_coffe_shops.drop(['Neighborhood Longitude', 'Venue', 'Venue Latitude','Venue Longitude','Venue Category'], axis=1)\n",
    "# num_coffe_shops = num_coffe_shops.rename(columns={'Neighborhood Latitude':'Neighborhood' })\n",
    "\n",
    "df_merged_coffee_shops = df_merged.merge(num_coffe_shops, left_on='Neighbourhood', right_on='Neighborhood', how = 'left')\n",
    "df_merged_coffee_shops.head()"
   ]
  },
  {
   "cell_type": "markdown",
   "metadata": {},
   "source": [
    "## Machine Learning"
   ]
  },
  {
   "cell_type": "code",
   "execution_count": 31,
   "metadata": {
    "ExecuteTime": {
     "end_time": "2020-10-21T04:58:49.068146Z",
     "start_time": "2020-10-21T04:58:49.045209Z"
    }
   },
   "outputs": [],
   "source": [
    "df_merged_coffee_shops = df_merged_coffee_shops.drop(['Neighborhood Longitude', 'Venue', 'Venue Latitude','Venue Longitude','Venue Category'], axis=1)\n",
    "df_merged_coffee_shops = df_merged_coffee_shops.rename(columns={'Neighborhood Latitude':'NUmber of coffee shops' })"
   ]
  },
  {
   "cell_type": "markdown",
   "metadata": {},
   "source": [
    "replacing all Nan vales with 0"
   ]
  },
  {
   "cell_type": "code",
   "execution_count": 32,
   "metadata": {
    "ExecuteTime": {
     "end_time": "2020-10-21T04:58:52.254655Z",
     "start_time": "2020-10-21T04:58:52.237670Z"
    }
   },
   "outputs": [
    {
     "data": {
      "text/plain": [
       "Postal Code               0\n",
       "Borough                   0\n",
       "Neighbourhood             0\n",
       "Latitude                  0\n",
       "Longitude                 0\n",
       "NUmber of coffee shops    0\n",
       "dtype: int64"
      ]
     },
     "execution_count": 32,
     "metadata": {},
     "output_type": "execute_result"
    }
   ],
   "source": [
    "df_merged_coffee_shops.head()\n",
    "\n",
    "df_merged_coffee_shops.isnull().sum(axis = 0)\n",
    "\n",
    "df_merged_coffee_shops = df_merged_coffee_shops.fillna(0)\n",
    "\n",
    "df_merged_coffee_shops.isnull().sum(axis = 0)"
   ]
  },
  {
   "cell_type": "markdown",
   "metadata": {
    "ExecuteTime": {
     "end_time": "2020-10-20T19:39:00.150642Z",
     "start_time": "2020-10-20T19:39:00.131694Z"
    }
   },
   "source": [
    "#### Cluster Neighborhoods"
   ]
  },
  {
   "cell_type": "code",
   "execution_count": 33,
   "metadata": {
    "ExecuteTime": {
     "end_time": "2020-10-21T04:58:54.922488Z",
     "start_time": "2020-10-21T04:58:54.852678Z"
    }
   },
   "outputs": [
    {
     "name": "stdout",
     "output_type": "stream",
     "text": [
      "39\n",
      "39\n"
     ]
    }
   ],
   "source": [
    "# set number of clusters\n",
    "kclusters = 5\n",
    "\n",
    "# toronto_grouped_clustering = df_merged.drop('Neighbourhood', 1)\n",
    "\n",
    "toronto_grouped_clustering = df_merged_coffee_shops.drop(['Neighbourhood', 'Borough', 'Postal Code','Latitude','Longitude'], axis=1)\n",
    "\n",
    "\n",
    "# run k-means clustering\n",
    "kmeans = KMeans(n_clusters=kclusters, random_state=0).fit(toronto_grouped_clustering)\n",
    "\n",
    "# check cluster labels generated for each row in the dataframe\n",
    "kmeans.labels_[0:10] \n",
    "print(len(kmeans.labels_))\n",
    "print(toronto_grouped_clustering.shape[0])"
   ]
  },
  {
   "cell_type": "code",
   "execution_count": 34,
   "metadata": {
    "ExecuteTime": {
     "end_time": "2020-10-21T04:58:57.894021Z",
     "start_time": "2020-10-21T04:58:57.862107Z"
    }
   },
   "outputs": [
    {
     "data": {
      "text/html": [
       "<div>\n",
       "<style scoped>\n",
       "    .dataframe tbody tr th:only-of-type {\n",
       "        vertical-align: middle;\n",
       "    }\n",
       "\n",
       "    .dataframe tbody tr th {\n",
       "        vertical-align: top;\n",
       "    }\n",
       "\n",
       "    .dataframe thead th {\n",
       "        text-align: right;\n",
       "    }\n",
       "</style>\n",
       "<table border=\"1\" class=\"dataframe\">\n",
       "  <thead>\n",
       "    <tr style=\"text-align: right;\">\n",
       "      <th></th>\n",
       "      <th>Cluster Labels</th>\n",
       "      <th>Postal Code</th>\n",
       "      <th>Borough</th>\n",
       "      <th>Neighbourhood</th>\n",
       "      <th>Latitude</th>\n",
       "      <th>Longitude</th>\n",
       "      <th>NUmber of coffee shops</th>\n",
       "    </tr>\n",
       "  </thead>\n",
       "  <tbody>\n",
       "    <tr>\n",
       "      <th>0</th>\n",
       "      <td>0</td>\n",
       "      <td>M5A</td>\n",
       "      <td>Downtown Toronto</td>\n",
       "      <td>Regent Park, Harbourfront</td>\n",
       "      <td>43.654260</td>\n",
       "      <td>-79.360636</td>\n",
       "      <td>17.0</td>\n",
       "    </tr>\n",
       "    <tr>\n",
       "      <th>1</th>\n",
       "      <td>2</td>\n",
       "      <td>M7A</td>\n",
       "      <td>Downtown Toronto</td>\n",
       "      <td>Queen's Park, Ontario Provincial Government</td>\n",
       "      <td>43.662301</td>\n",
       "      <td>-79.389494</td>\n",
       "      <td>26.0</td>\n",
       "    </tr>\n",
       "    <tr>\n",
       "      <th>2</th>\n",
       "      <td>1</td>\n",
       "      <td>M5B</td>\n",
       "      <td>Downtown Toronto</td>\n",
       "      <td>Garden District, Ryerson</td>\n",
       "      <td>43.657162</td>\n",
       "      <td>-79.378937</td>\n",
       "      <td>55.0</td>\n",
       "    </tr>\n",
       "    <tr>\n",
       "      <th>3</th>\n",
       "      <td>1</td>\n",
       "      <td>M5C</td>\n",
       "      <td>Downtown Toronto</td>\n",
       "      <td>St. James Town</td>\n",
       "      <td>43.651494</td>\n",
       "      <td>-79.375418</td>\n",
       "      <td>52.0</td>\n",
       "    </tr>\n",
       "    <tr>\n",
       "      <th>4</th>\n",
       "      <td>4</td>\n",
       "      <td>M4E</td>\n",
       "      <td>East Toronto</td>\n",
       "      <td>The Beaches</td>\n",
       "      <td>43.676357</td>\n",
       "      <td>-79.293031</td>\n",
       "      <td>1.0</td>\n",
       "    </tr>\n",
       "  </tbody>\n",
       "</table>\n",
       "</div>"
      ],
      "text/plain": [
       "   Cluster Labels Postal Code           Borough  \\\n",
       "0               0         M5A  Downtown Toronto   \n",
       "1               2         M7A  Downtown Toronto   \n",
       "2               1         M5B  Downtown Toronto   \n",
       "3               1         M5C  Downtown Toronto   \n",
       "4               4         M4E      East Toronto   \n",
       "\n",
       "                                 Neighbourhood   Latitude  Longitude  \\\n",
       "0                    Regent Park, Harbourfront  43.654260 -79.360636   \n",
       "1  Queen's Park, Ontario Provincial Government  43.662301 -79.389494   \n",
       "2                     Garden District, Ryerson  43.657162 -79.378937   \n",
       "3                               St. James Town  43.651494 -79.375418   \n",
       "4                                  The Beaches  43.676357 -79.293031   \n",
       "\n",
       "   NUmber of coffee shops  \n",
       "0                    17.0  \n",
       "1                    26.0  \n",
       "2                    55.0  \n",
       "3                    52.0  \n",
       "4                     1.0  "
      ]
     },
     "execution_count": 34,
     "metadata": {},
     "output_type": "execute_result"
    }
   ],
   "source": [
    "# add clustering labels\n",
    "\n",
    "df_merged_coffee_shops.insert(0, 'Cluster Labels', kmeans.labels_)\n",
    "df_merged_coffee_shops.head()"
   ]
  },
  {
   "cell_type": "markdown",
   "metadata": {},
   "source": [
    "### Data Analysis"
   ]
  },
  {
   "cell_type": "code",
   "execution_count": 35,
   "metadata": {
    "ExecuteTime": {
     "end_time": "2020-10-21T04:59:00.670632Z",
     "start_time": "2020-10-21T04:59:00.572897Z"
    }
   },
   "outputs": [
    {
     "data": {
      "text/html": [
       "<div style=\"width:100%;\"><div style=\"position:relative;width:100%;height:0;padding-bottom:60%;\"><span style=\"color:#565656\">Make this Notebook Trusted to load map: File -> Trust Notebook</span><iframe src=\"about:blank\" style=\"position:absolute;width:100%;height:100%;left:0;top:0;border:none !important;\" data-html=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 onload=\"this.contentDocument.open();this.contentDocument.write(atob(this.getAttribute('data-html')));this.contentDocument.close();\" allowfullscreen webkitallowfullscreen mozallowfullscreen></iframe></div></div>"
      ],
      "text/plain": [
       "<folium.folium.Map at 0x1c0346aad48>"
      ]
     },
     "execution_count": 35,
     "metadata": {},
     "output_type": "execute_result"
    }
   ],
   "source": [
    "# create map\n",
    "map_clusters = folium.Map(location=[latitude, longitude], zoom_start=11)\n",
    "\n",
    "# set color scheme for the clusters\n",
    "x = np.arange(kclusters)\n",
    "ys = [i + x + (i*x)**2 for i in range(kclusters)]\n",
    "colors_array = cm.rainbow(np.linspace(0, 1, len(ys)))\n",
    "rainbow = [colors.rgb2hex(i) for i in colors_array]\n",
    "\n",
    "# add markers to the map\n",
    "markers_colors = []\n",
    "for lat, lon, poi, cluster in zip(df_merged_coffee_shops['Latitude'], df_merged_coffee_shops['Longitude'], df_merged_coffee_shops['Neighbourhood'], df_merged_coffee_shops['Cluster Labels']):\n",
    "    label = folium.Popup(str(poi) + ' Cluster ' + str(cluster), parse_html=True)\n",
    "    folium.CircleMarker(\n",
    "        [lat, lon],\n",
    "        radius=5,\n",
    "        popup=label,\n",
    "        color=rainbow[cluster-1],\n",
    "        fill=True,\n",
    "        fill_color=rainbow[cluster-1],\n",
    "        fill_opacity=0.7).add_to(map_clusters)\n",
    "       \n",
    "map_clusters"
   ]
  },
  {
   "cell_type": "markdown",
   "metadata": {},
   "source": [
    "above folium map shows neighborhoods as clusters depending on the number of coffee shops in each neighborhood.\n",
    "Cluster 0 - Red\n",
    "Cluster 1 - Purple\n",
    "Cluster 2 - Turquoise\n",
    "Cluster 3 - Green\n",
    "Cluster 4 - Orange\n",
    "\n",
    "Let's find out the number of coffee shops in each cluster."
   ]
  },
  {
   "cell_type": "code",
   "execution_count": 36,
   "metadata": {
    "ExecuteTime": {
     "end_time": "2020-10-21T04:59:04.929345Z",
     "start_time": "2020-10-21T04:59:04.909402Z"
    }
   },
   "outputs": [
    {
     "data": {
      "text/plain": [
       "Cluster Labels\n",
       "0    129.0\n",
       "1    248.0\n",
       "2    214.0\n",
       "3    198.0\n",
       "4     40.0\n",
       "Name: NUmber of coffee shops, dtype: float64"
      ]
     },
     "execution_count": 36,
     "metadata": {},
     "output_type": "execute_result"
    }
   ],
   "source": [
    "# the number of venues returned for each neighborhood\n",
    "cluster_analysis_df = df_merged_coffee_shops.groupby('Cluster Labels')['NUmber of coffee shops'].sum()\n",
    "cluster_analysis_df.head()"
   ]
  },
  {
   "cell_type": "code",
   "execution_count": 37,
   "metadata": {
    "ExecuteTime": {
     "end_time": "2020-10-21T04:59:09.014451Z",
     "start_time": "2020-10-21T04:59:08.221542Z"
    }
   },
   "outputs": [
    {
     "data": {
      "image/png": "[encoded data removed]",
      "text/plain": [
       "<Figure size 432x288 with 1 Axes>"
      ]
     },
     "metadata": {
      "needs_background": "light"
     },
     "output_type": "display_data"
    }
   ],
   "source": [
    "import matplotlib.pyplot as plt\n",
    "fig = plt.figure()\n",
    "ax = fig.add_axes([0,0,1,1])\n",
    "langs = [0,1,2,3,4]\n",
    "students = [129,248,214,198,40]\n",
    "ax.bar(langs,students)\n",
    "\n",
    "plt.xlabel(\"Cluster Label\")\n",
    "plt.ylabel(\"Number of coffee restaurants\")\n",
    "plt.title(\"Coffee shops distribution across clusters\")\n",
    "\n",
    "plt.show()"
   ]
  },
  {
   "cell_type": "markdown",
   "metadata": {},
   "source": [
    "## Results\n"
   ]
  },
  {
   "cell_type": "markdown",
   "metadata": {
    "ExecuteTime": {
     "end_time": "2020-10-21T04:50:49.261609Z",
     "start_time": "2020-10-21T04:50:49.246639Z"
    }
   },
   "source": [
    "When we have a look at the results we observe that the lowest number of coffee restaurants are in Cluster 4.\n",
    "So, let's filter out the neighborhoods in cluster 4 with the number of coffee shops available."
   ]
  },
  {
   "cell_type": "code",
   "execution_count": 39,
   "metadata": {
    "ExecuteTime": {
     "end_time": "2020-10-21T04:59:33.419063Z",
     "start_time": "2020-10-21T04:59:33.398121Z"
    }
   },
   "outputs": [
    {
     "data": {
      "text/html": [
       "<div>\n",
       "<style scoped>\n",
       "    .dataframe tbody tr th:only-of-type {\n",
       "        vertical-align: middle;\n",
       "    }\n",
       "\n",
       "    .dataframe tbody tr th {\n",
       "        vertical-align: top;\n",
       "    }\n",
       "\n",
       "    .dataframe thead th {\n",
       "        text-align: right;\n",
       "    }\n",
       "</style>\n",
       "<table border=\"1\" class=\"dataframe\">\n",
       "  <thead>\n",
       "    <tr style=\"text-align: right;\">\n",
       "      <th></th>\n",
       "      <th>Cluster Labels</th>\n",
       "      <th>Postal Code</th>\n",
       "      <th>Borough</th>\n",
       "      <th>Neighbourhood</th>\n",
       "      <th>Latitude</th>\n",
       "      <th>Longitude</th>\n",
       "      <th>NUmber of coffee shops</th>\n",
       "    </tr>\n",
       "  </thead>\n",
       "  <tbody>\n",
       "    <tr>\n",
       "      <th>4</th>\n",
       "      <td>4</td>\n",
       "      <td>M4E</td>\n",
       "      <td>East Toronto</td>\n",
       "      <td>The Beaches</td>\n",
       "      <td>43.676357</td>\n",
       "      <td>-79.293031</td>\n",
       "      <td>1.0</td>\n",
       "    </tr>\n",
       "    <tr>\n",
       "      <th>7</th>\n",
       "      <td>4</td>\n",
       "      <td>M6G</td>\n",
       "      <td>Downtown Toronto</td>\n",
       "      <td>Christie</td>\n",
       "      <td>43.669542</td>\n",
       "      <td>-79.422564</td>\n",
       "      <td>6.0</td>\n",
       "    </tr>\n",
       "    <tr>\n",
       "      <th>9</th>\n",
       "      <td>4</td>\n",
       "      <td>M6H</td>\n",
       "      <td>West Toronto</td>\n",
       "      <td>Dufferin, Dovercourt Village</td>\n",
       "      <td>43.669005</td>\n",
       "      <td>-79.442259</td>\n",
       "      <td>5.0</td>\n",
       "    </tr>\n",
       "    <tr>\n",
       "      <th>14</th>\n",
       "      <td>4</td>\n",
       "      <td>M6K</td>\n",
       "      <td>West Toronto</td>\n",
       "      <td>Brockton, Parkdale Village, Exhibition Place</td>\n",
       "      <td>43.636847</td>\n",
       "      <td>-79.428191</td>\n",
       "      <td>6.0</td>\n",
       "    </tr>\n",
       "    <tr>\n",
       "      <th>15</th>\n",
       "      <td>4</td>\n",
       "      <td>M4L</td>\n",
       "      <td>East Toronto</td>\n",
       "      <td>India Bazaar, The Beaches West</td>\n",
       "      <td>43.668999</td>\n",
       "      <td>-79.315572</td>\n",
       "      <td>2.0</td>\n",
       "    </tr>\n",
       "  </tbody>\n",
       "</table>\n",
       "</div>"
      ],
      "text/plain": [
       "    Cluster Labels Postal Code           Borough  \\\n",
       "4                4         M4E      East Toronto   \n",
       "7                4         M6G  Downtown Toronto   \n",
       "9                4         M6H      West Toronto   \n",
       "14               4         M6K      West Toronto   \n",
       "15               4         M4L      East Toronto   \n",
       "\n",
       "                                   Neighbourhood   Latitude  Longitude  \\\n",
       "4                                    The Beaches  43.676357 -79.293031   \n",
       "7                                       Christie  43.669542 -79.422564   \n",
       "9                   Dufferin, Dovercourt Village  43.669005 -79.442259   \n",
       "14  Brockton, Parkdale Village, Exhibition Place  43.636847 -79.428191   \n",
       "15                India Bazaar, The Beaches West  43.668999 -79.315572   \n",
       "\n",
       "    NUmber of coffee shops  \n",
       "4                      1.0  \n",
       "7                      6.0  \n",
       "9                      5.0  \n",
       "14                     6.0  \n",
       "15                     2.0  "
      ]
     },
     "execution_count": 39,
     "metadata": {},
     "output_type": "execute_result"
    }
   ],
   "source": [
    "df_merged_coffee_shops = df_merged_coffee_shops[df_merged_coffee_shops['Cluster Labels'] == 4]\n",
    "df_merged_coffee_shops.head()"
   ]
  },
  {
   "cell_type": "code",
   "execution_count": 40,
   "metadata": {
    "ExecuteTime": {
     "end_time": "2020-10-21T05:00:35.584862Z",
     "start_time": "2020-10-21T05:00:35.557937Z"
    }
   },
   "outputs": [
    {
     "data": {
      "text/html": [
       "<div>\n",
       "<style scoped>\n",
       "    .dataframe tbody tr th:only-of-type {\n",
       "        vertical-align: middle;\n",
       "    }\n",
       "\n",
       "    .dataframe tbody tr th {\n",
       "        vertical-align: top;\n",
       "    }\n",
       "\n",
       "    .dataframe thead th {\n",
       "        text-align: right;\n",
       "    }\n",
       "</style>\n",
       "<table border=\"1\" class=\"dataframe\">\n",
       "  <thead>\n",
       "    <tr style=\"text-align: right;\">\n",
       "      <th></th>\n",
       "      <th>Cluster Labels</th>\n",
       "      <th>Postal Code</th>\n",
       "      <th>Borough</th>\n",
       "      <th>Neighbourhood</th>\n",
       "      <th>Latitude</th>\n",
       "      <th>Longitude</th>\n",
       "      <th>NUmber of coffee shops</th>\n",
       "    </tr>\n",
       "  </thead>\n",
       "  <tbody>\n",
       "    <tr>\n",
       "      <th>21</th>\n",
       "      <td>4</td>\n",
       "      <td>M5P</td>\n",
       "      <td>Central Toronto</td>\n",
       "      <td>Forest Hill North &amp; West, Forest Hill Road Park</td>\n",
       "      <td>43.696948</td>\n",
       "      <td>-79.411307</td>\n",
       "      <td>0.0</td>\n",
       "    </tr>\n",
       "    <tr>\n",
       "      <th>29</th>\n",
       "      <td>4</td>\n",
       "      <td>M4T</td>\n",
       "      <td>Central Toronto</td>\n",
       "      <td>Moore Park, Summerhill East</td>\n",
       "      <td>43.689574</td>\n",
       "      <td>-79.383160</td>\n",
       "      <td>0.0</td>\n",
       "    </tr>\n",
       "    <tr>\n",
       "      <th>33</th>\n",
       "      <td>4</td>\n",
       "      <td>M4W</td>\n",
       "      <td>Downtown Toronto</td>\n",
       "      <td>Rosedale</td>\n",
       "      <td>43.679563</td>\n",
       "      <td>-79.377529</td>\n",
       "      <td>0.0</td>\n",
       "    </tr>\n",
       "    <tr>\n",
       "      <th>19</th>\n",
       "      <td>4</td>\n",
       "      <td>M5N</td>\n",
       "      <td>Central Toronto</td>\n",
       "      <td>Roselawn</td>\n",
       "      <td>43.711695</td>\n",
       "      <td>-79.416936</td>\n",
       "      <td>0.0</td>\n",
       "    </tr>\n",
       "    <tr>\n",
       "      <th>18</th>\n",
       "      <td>4</td>\n",
       "      <td>M4N</td>\n",
       "      <td>Central Toronto</td>\n",
       "      <td>Lawrence Park</td>\n",
       "      <td>43.728020</td>\n",
       "      <td>-79.388790</td>\n",
       "      <td>0.0</td>\n",
       "    </tr>\n",
       "    <tr>\n",
       "      <th>4</th>\n",
       "      <td>4</td>\n",
       "      <td>M4E</td>\n",
       "      <td>East Toronto</td>\n",
       "      <td>The Beaches</td>\n",
       "      <td>43.676357</td>\n",
       "      <td>-79.293031</td>\n",
       "      <td>1.0</td>\n",
       "    </tr>\n",
       "    <tr>\n",
       "      <th>38</th>\n",
       "      <td>4</td>\n",
       "      <td>M7Y</td>\n",
       "      <td>East Toronto</td>\n",
       "      <td>Business reply mail Processing Centre, South C...</td>\n",
       "      <td>43.662744</td>\n",
       "      <td>-79.321558</td>\n",
       "      <td>1.0</td>\n",
       "    </tr>\n",
       "    <tr>\n",
       "      <th>32</th>\n",
       "      <td>4</td>\n",
       "      <td>M5V</td>\n",
       "      <td>Downtown Toronto</td>\n",
       "      <td>CN Tower, King and Spadina, Railway Lands, Har...</td>\n",
       "      <td>43.628947</td>\n",
       "      <td>-79.394420</td>\n",
       "      <td>2.0</td>\n",
       "    </tr>\n",
       "    <tr>\n",
       "      <th>15</th>\n",
       "      <td>4</td>\n",
       "      <td>M4L</td>\n",
       "      <td>East Toronto</td>\n",
       "      <td>India Bazaar, The Beaches West</td>\n",
       "      <td>43.668999</td>\n",
       "      <td>-79.315572</td>\n",
       "      <td>2.0</td>\n",
       "    </tr>\n",
       "    <tr>\n",
       "      <th>20</th>\n",
       "      <td>4</td>\n",
       "      <td>M4P</td>\n",
       "      <td>Central Toronto</td>\n",
       "      <td>Davisville North</td>\n",
       "      <td>43.712751</td>\n",
       "      <td>-79.390197</td>\n",
       "      <td>3.0</td>\n",
       "    </tr>\n",
       "    <tr>\n",
       "      <th>23</th>\n",
       "      <td>4</td>\n",
       "      <td>M4R</td>\n",
       "      <td>Central Toronto</td>\n",
       "      <td>North Toronto West, Lawrence Park</td>\n",
       "      <td>43.715383</td>\n",
       "      <td>-79.405678</td>\n",
       "      <td>3.0</td>\n",
       "    </tr>\n",
       "    <tr>\n",
       "      <th>25</th>\n",
       "      <td>4</td>\n",
       "      <td>M6R</td>\n",
       "      <td>West Toronto</td>\n",
       "      <td>Parkdale, Roncesvalles</td>\n",
       "      <td>43.648960</td>\n",
       "      <td>-79.456325</td>\n",
       "      <td>3.0</td>\n",
       "    </tr>\n",
       "    <tr>\n",
       "      <th>22</th>\n",
       "      <td>4</td>\n",
       "      <td>M6P</td>\n",
       "      <td>West Toronto</td>\n",
       "      <td>High Park, The Junction South</td>\n",
       "      <td>43.661608</td>\n",
       "      <td>-79.464763</td>\n",
       "      <td>4.0</td>\n",
       "    </tr>\n",
       "    <tr>\n",
       "      <th>31</th>\n",
       "      <td>4</td>\n",
       "      <td>M4V</td>\n",
       "      <td>Central Toronto</td>\n",
       "      <td>Summerhill West, Rathnelly, South Hill, Forest...</td>\n",
       "      <td>43.686412</td>\n",
       "      <td>-79.400049</td>\n",
       "      <td>4.0</td>\n",
       "    </tr>\n",
       "    <tr>\n",
       "      <th>9</th>\n",
       "      <td>4</td>\n",
       "      <td>M6H</td>\n",
       "      <td>West Toronto</td>\n",
       "      <td>Dufferin, Dovercourt Village</td>\n",
       "      <td>43.669005</td>\n",
       "      <td>-79.442259</td>\n",
       "      <td>5.0</td>\n",
       "    </tr>\n",
       "    <tr>\n",
       "      <th>14</th>\n",
       "      <td>4</td>\n",
       "      <td>M6K</td>\n",
       "      <td>West Toronto</td>\n",
       "      <td>Brockton, Parkdale Village, Exhibition Place</td>\n",
       "      <td>43.636847</td>\n",
       "      <td>-79.428191</td>\n",
       "      <td>6.0</td>\n",
       "    </tr>\n",
       "    <tr>\n",
       "      <th>7</th>\n",
       "      <td>4</td>\n",
       "      <td>M6G</td>\n",
       "      <td>Downtown Toronto</td>\n",
       "      <td>Christie</td>\n",
       "      <td>43.669542</td>\n",
       "      <td>-79.422564</td>\n",
       "      <td>6.0</td>\n",
       "    </tr>\n",
       "  </tbody>\n",
       "</table>\n",
       "</div>"
      ],
      "text/plain": [
       "    Cluster Labels Postal Code           Borough  \\\n",
       "21               4         M5P   Central Toronto   \n",
       "29               4         M4T   Central Toronto   \n",
       "33               4         M4W  Downtown Toronto   \n",
       "19               4         M5N   Central Toronto   \n",
       "18               4         M4N   Central Toronto   \n",
       "4                4         M4E      East Toronto   \n",
       "38               4         M7Y      East Toronto   \n",
       "32               4         M5V  Downtown Toronto   \n",
       "15               4         M4L      East Toronto   \n",
       "20               4         M4P   Central Toronto   \n",
       "23               4         M4R   Central Toronto   \n",
       "25               4         M6R      West Toronto   \n",
       "22               4         M6P      West Toronto   \n",
       "31               4         M4V   Central Toronto   \n",
       "9                4         M6H      West Toronto   \n",
       "14               4         M6K      West Toronto   \n",
       "7                4         M6G  Downtown Toronto   \n",
       "\n",
       "                                        Neighbourhood   Latitude  Longitude  \\\n",
       "21    Forest Hill North & West, Forest Hill Road Park  43.696948 -79.411307   \n",
       "29                        Moore Park, Summerhill East  43.689574 -79.383160   \n",
       "33                                           Rosedale  43.679563 -79.377529   \n",
       "19                                           Roselawn  43.711695 -79.416936   \n",
       "18                                      Lawrence Park  43.728020 -79.388790   \n",
       "4                                         The Beaches  43.676357 -79.293031   \n",
       "38  Business reply mail Processing Centre, South C...  43.662744 -79.321558   \n",
       "32  CN Tower, King and Spadina, Railway Lands, Har...  43.628947 -79.394420   \n",
       "15                     India Bazaar, The Beaches West  43.668999 -79.315572   \n",
       "20                                   Davisville North  43.712751 -79.390197   \n",
       "23                  North Toronto West, Lawrence Park  43.715383 -79.405678   \n",
       "25                             Parkdale, Roncesvalles  43.648960 -79.456325   \n",
       "22                      High Park, The Junction South  43.661608 -79.464763   \n",
       "31  Summerhill West, Rathnelly, South Hill, Forest...  43.686412 -79.400049   \n",
       "9                        Dufferin, Dovercourt Village  43.669005 -79.442259   \n",
       "14       Brockton, Parkdale Village, Exhibition Place  43.636847 -79.428191   \n",
       "7                                            Christie  43.669542 -79.422564   \n",
       "\n",
       "    NUmber of coffee shops  \n",
       "21                     0.0  \n",
       "29                     0.0  \n",
       "33                     0.0  \n",
       "19                     0.0  \n",
       "18                     0.0  \n",
       "4                      1.0  \n",
       "38                     1.0  \n",
       "32                     2.0  \n",
       "15                     2.0  \n",
       "20                     3.0  \n",
       "23                     3.0  \n",
       "25                     3.0  \n",
       "22                     4.0  \n",
       "31                     4.0  \n",
       "9                      5.0  \n",
       "14                     6.0  \n",
       "7                      6.0  "
      ]
     },
     "execution_count": 40,
     "metadata": {},
     "output_type": "execute_result"
    }
   ],
   "source": [
    "df_merged_coffee_shops.sort_values(by=['NUmber of coffee shops'])\n"
   ]
  },
  {
   "cell_type": "code",
   "execution_count": 43,
   "metadata": {
    "ExecuteTime": {
     "end_time": "2020-10-21T05:02:19.972450Z",
     "start_time": "2020-10-21T05:02:19.966493Z"
    }
   },
   "outputs": [
    {
     "name": "stdout",
     "output_type": "stream",
     "text": [
      "17\n"
     ]
    }
   ],
   "source": [
    "print(df_merged_coffee_shops.shape[0])"
   ]
  },
  {
   "cell_type": "markdown",
   "metadata": {
    "ExecuteTime": {
     "end_time": "2020-10-21T05:02:08.938662Z",
     "start_time": "2020-10-21T05:02:08.932681Z"
    }
   },
   "source": [
    "There are 17 postal codes in cluster 4. "
   ]
  },
  {
   "cell_type": "markdown",
   "metadata": {},
   "source": [
    "## Discussion"
   ]
  },
  {
   "cell_type": "markdown",
   "metadata": {},
   "source": [
    "Most of the coffee shops are in cluster 1 represented by purple in the folium map. Cluster 4 has the least number of coffee shops as we analyzed above. We have come up with all the data for neighborhoods in cluster 4 as well. We see that neighbourhoods like Forest Hill North & West, Forest Hill Road Park has 0 coffee restaulrants.\n",
    "\n",
    " Some of the drawbacks of this analysis are — the clustering is completely based on data obtained from the Foursquare API. Also, the analysis does not take into consideration about the population distribution across the neighbourhood that is one of the most important factor when deciding a location to come up with a new business. This concludes the optimal findings for this project and recommends the entrepreneur to open an coffee shop in cluster 4 with little to no competition."
   ]
  },
  {
   "cell_type": "markdown",
   "metadata": {},
   "source": [
    "## Conclusion"
   ]
  },
  {
   "cell_type": "markdown",
   "metadata": {},
   "source": [
    "In conclusion in this project we came up with a business problem which is a real world problem and then identified how we can use foursquare API data to come with a solution to this problem. We followed the actual data science process in the implementation starting from data scleansing, data analysis, applying machine learning algorthms and models and then finally coming up with a solution. We used foursquare API and also the neighborhood data available in wikipedia about Toronto neighborhoods. We used important python libraries such as folium, pandas, matplotlib and etc. \n",
    "\n",
    "However, still possible to improve our project by accessign more data that gives insight into the problem. \n",
    "\n"
   ]
  },
  {
   "cell_type": "code",
   "execution_count": null,
   "metadata": {},
   "outputs": [],
   "source": []
  }
 ],
 "metadata": {
  "kernelspec": {
   "display_name": "Python 3",
   "language": "python",
   "name": "python3"
  },
  "language_info": {
   "codemirror_mode": {
    "name": "ipython",
    "version": 3
   },
   "file_extension": ".py",
   "mimetype": "text/x-python",
   "name": "python",
   "nbconvert_exporter": "python",
   "pygments_lexer": "ipython3",
   "version": "3.7.6"
  },
  "toc": {
   "base_numbering": 1,
   "nav_menu": {},
   "number_sections": true,
   "sideBar": true,
   "skip_h1_title": false,
   "title_cell": "Table of Contents",
   "title_sidebar": "Contents",
   "toc_cell": false,
   "toc_position": {},
   "toc_section_display": true,
   "toc_window_display": false
  },
  "varInspector": {
   "cols": {
    "lenName": 16,
    "lenType": 16,
    "lenVar": 40
   },
   "kernels_config": {
    "python": {
     "delete_cmd_postfix": "",
     "delete_cmd_prefix": "del ",
     "library": "var_list.py",
     "varRefreshCmd": "print(var_dic_list())"
    },
    "r": {
     "delete_cmd_postfix": ") ",
     "delete_cmd_prefix": "rm(",
     "library": "var_list.r",
     "varRefreshCmd": "cat(var_dic_list()) "
    }
   },
   "types_to_exclude": [
    "module",
    "function",
    "builtin_function_or_method",
    "instance",
    "_Feature"
   ],
   "window_display": false
  }
 },
 "nbformat": 4,
 "nbformat_minor": 1
}
